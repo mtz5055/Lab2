{
  "nbformat": 4,
  "nbformat_minor": 0,
  "metadata": {
    "colab": {
      "name": "Lab2Template.ipynb",
      "provenance": []
    },
    "kernelspec": {
      "name": "python3",
      "display_name": "Python 3"
    }
  },
  "cells": [
    {
      "cell_type": "markdown",
      "metadata": {
        "id": "6sOc4Uyr4U-Z",
        "colab_type": "text"
      },
      "source": [
        "## Graph Types"
      ]
    },
    {
      "cell_type": "markdown",
      "metadata": {
        "id": "0zZdVLAd5CYr",
        "colab_type": "text"
      },
      "source": [
        "Creator\n",
        "* Matt Ziv\n"
      ]
    },
    {
      "cell_type": "markdown",
      "metadata": {
        "id": "g-r6Clq45Hn4",
        "colab_type": "text"
      },
      "source": [
        "### Deviation\n"
      ]
    },
    {
      "cell_type": "markdown",
      "metadata": {
        "id": "2gorxo6E7A0t",
        "colab_type": "text"
      },
      "source": [
        "![alt text](https://raw.githubusercontent.com/mtz5055/Lab2SRA268/master/Sheet%208.png)"
      ]
    },
    {
      "cell_type": "markdown",
      "metadata": {
        "id": "w6bZ_NEi7E3w",
        "colab_type": "text"
      },
      "source": [
        "#### What is this telling us?"
      ]
    },
    {
      "cell_type": "markdown",
      "metadata": {
        "id": "95L-spaC7QHF",
        "colab_type": "text"
      },
      "source": [
        "This graph is comparing what the winning points and winning seed look like in each round. It shows that the winning seed and who wins by the most point increases as the rounds increase as well. The winning seed is much lower than the winning points as there are more points scored in games. I did not think there would be such a discrepancy between rounds three and four, as round 4 does not have any winning points or seeds. By the time round seven approaches, the winning seed is always the better team and the points are scored in more rapid fashion. "
      ]
    },
    {
      "cell_type": "markdown",
      "metadata": {
        "id": "YgXyXjmz7cDP",
        "colab_type": "text"
      },
      "source": [
        "### Correlation\n"
      ]
    },
    {
      "cell_type": "markdown",
      "metadata": {
        "id": "SGx15rZq7hvt",
        "colab_type": "text"
      },
      "source": [
        "![alt text](https://raw.githubusercontent.com/mtz5055/Lab2SRA268/master/Sheet%202.png)"
      ]
    },
    {
      "cell_type": "markdown",
      "metadata": {
        "id": "dljjONNi7jmj",
        "colab_type": "text"
      },
      "source": [
        "#### What is this telling us?"
      ]
    },
    {
      "cell_type": "markdown",
      "metadata": {
        "id": "PwZEZrFB7laG",
        "colab_type": "text"
      },
      "source": [
        "In this scatterplot, we are comparing the round and winning seed number with the winning mascot highlighted by color, the win region shown by size, and the winning name is shown by details. The graph shows wildcats and tigers as the consistently good performing mascots in all aspects of the comparison. It shows certain mascots like those two have dominated the success of this tournament.It also shows that unknown mascots like the pilgrim and mustang have never had a lot of success. It also shows a direct correlation between getting better seeds and advancing further in the tournament, a testament to the lower seed being a better team."
      ]
    },
    {
      "cell_type": "markdown",
      "metadata": {
        "id": "MqUdI-uL7r2s",
        "colab_type": "text"
      },
      "source": [
        "### Ranking\n"
      ]
    },
    {
      "cell_type": "markdown",
      "metadata": {
        "id": "AvlxCOVt7x9F",
        "colab_type": "text"
      },
      "source": [
        "![alt text](https://raw.githubusercontent.com/mtz5055/Lab2SRA268/master/Sheet%204.png)"
      ]
    },
    {
      "cell_type": "markdown",
      "metadata": {
        "id": "lCAYtfza7yTq",
        "colab_type": "text"
      },
      "source": [
        "#### What is this telling us?"
      ]
    },
    {
      "cell_type": "markdown",
      "metadata": {
        "id": "MyuciD277ygU",
        "colab_type": "text"
      },
      "source": [
        "This graph is comparing the losing seed between the total number of records. It shows that any integer between zero and 14 will have you stabilized around 250. But the minimum and maximum both are different, as zero is only about 120 and 15.36 is around 160. This shows that the seeding is a good indicator of a teams success, but it also manages to get the times where a team surpasses or falls below expectations. In those instances, it shows that a team is more likely to do better than its seeding than those are to do worse."
      ]
    },
    {
      "cell_type": "markdown",
      "metadata": {
        "id": "dGDGl8-G7y8Y",
        "colab_type": "text"
      },
      "source": [
        "### Distribution\n"
      ]
    },
    {
      "cell_type": "markdown",
      "metadata": {
        "id": "FB0uV-jy76p9",
        "colab_type": "text"
      },
      "source": [
        "![alt text](https://raw.githubusercontent.com/mtz5055/Lab2SRA268/master/Sheet%209.png)"
      ]
    },
    {
      "cell_type": "markdown",
      "metadata": {
        "id": "_6SOzhrQ76zH",
        "colab_type": "text"
      },
      "source": [
        "#### What is this telling us?"
      ]
    },
    {
      "cell_type": "markdown",
      "metadata": {
        "id": "HBWqsS_g767h",
        "colab_type": "text"
      },
      "source": [
        "This graph shows how many points the winning team won with. As you can see, the most common amount of points to win with is between 70 and 80. Teams are rarely winning with less than sixty points scored and teams are also very seldom winning with over 100 points. This makes sense as there are a lot of different playstyles, but the amount of time is a constant and shows that some teams score less than others but can still win. Winning a game scoring between 60 and 90 points is the most common."
      ]
    },
    {
      "cell_type": "markdown",
      "metadata": {
        "id": "wQsDThk677Fy",
        "colab_type": "text"
      },
      "source": [
        "### Change over Time\n"
      ]
    },
    {
      "cell_type": "markdown",
      "metadata": {
        "id": "Z1j_YLOA7_OK",
        "colab_type": "text"
      },
      "source": [
        "![alt text](https://raw.githubusercontent.com/mtz5055/Lab2SRA268/master/Sheet%205.png)"
      ]
    },
    {
      "cell_type": "markdown",
      "metadata": {
        "id": "mpfsmmgi7_Vj",
        "colab_type": "text"
      },
      "source": [
        "#### What is this telling us?"
      ]
    },
    {
      "cell_type": "markdown",
      "metadata": {
        "id": "rYLXoMMO7_di",
        "colab_type": "text"
      },
      "source": [
        "This graph is comparing the winning seed with the month and year, covering from March 1985 until April 2017. The winning seed started around 300, and was on an up and down for the duration of the time, but only once fell under 250 and never went above 400, showing the data stayed mostly consistent. This graph does show that the winning seed number increased as the years went on at the end, but for the first 15 years they did decrease. It also captures the years the winning seed was higher or lower."
      ]
    },
    {
      "cell_type": "markdown",
      "metadata": {
        "id": "lFwiHoE-7_jZ",
        "colab_type": "text"
      },
      "source": [
        "### Magnitude\n"
      ]
    },
    {
      "cell_type": "markdown",
      "metadata": {
        "id": "ICQFnXj78EbF",
        "colab_type": "text"
      },
      "source": [
        "![alt text](https://raw.githubusercontent.com/mtz5055/Lab2SRA268/master/Sheet%206.png)"
      ]
    },
    {
      "cell_type": "markdown",
      "metadata": {
        "id": "QGG7XYG88Eii",
        "colab_type": "text"
      },
      "source": [
        "#### What is this telling us?"
      ]
    },
    {
      "cell_type": "markdown",
      "metadata": {
        "id": "VS7uGa0l8Eos",
        "colab_type": "text"
      },
      "source": [
        "This graph compares how far each mascot makes it in the tournament until they lose. It shows that some mascots are very used to losing in the first round or two. It also shows that a lot of mascots are used to making it far in the tournament and used to beating up on the other ones. It is also able to have a slight insider knowledge, if you know your college basketball and barely recognize these mascots, you may be able to infer they had one or two really good or poor performances. This does not capture the amount of times in the tournament and can be a hindrance for the viewer."
      ]
    },
    {
      "cell_type": "markdown",
      "metadata": {
        "id": "bEKFxP8R8Evk",
        "colab_type": "text"
      },
      "source": [
        "### Part-to-Whole\n"
      ]
    },
    {
      "cell_type": "markdown",
      "metadata": {
        "id": "WFHlcYKV8E35",
        "colab_type": "text"
      },
      "source": [
        "![alt text](https://raw.githubusercontent.com/mtz5055/Lab2SRA268/master/Sheet%207.png)"
      ]
    },
    {
      "cell_type": "markdown",
      "metadata": {
        "id": "PNSd3wlp8UZH",
        "colab_type": "text"
      },
      "source": [
        "#### What is this telling us?"
      ]
    },
    {
      "cell_type": "markdown",
      "metadata": {
        "id": "y9tb_QRA8aqt",
        "colab_type": "text"
      },
      "source": [
        "This graph is showing each day of the week in a different color, and what day the wins occurred on. This makes sense from the tournaments standpoint, as orange, red, and teal are barely used at all. Tournament games are rarely ever played on the days those colors represent, but it does show when there was possibly a problem and how often games get made up for whatever reason. It also shows that contrary to what you would imagine, Thursday and Friday have more games played on them than Saturday and Sunday do. It is a very good representation of what days games are played on the most often."
      ]
    }
  ]
}